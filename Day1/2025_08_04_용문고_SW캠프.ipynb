{
  "nbformat": 4,
  "nbformat_minor": 0,
  "metadata": {
    "colab": {
      "provenance": []
    },
    "kernelspec": {
      "name": "python3",
      "display_name": "Python 3"
    },
    "language_info": {
      "name": "python"
    }
  },
  "cells": [
    {
      "cell_type": "code",
      "source": [
        "import torch\n",
        "data=[[1,2],[3,4]]\n",
        "x_data = torch.tensor(data)\n",
        "print(x_data)"
      ],
      "metadata": {
        "colab": {
          "base_uri": "https://localhost:8080/"
        },
        "id": "B0uQuBXBHJ2q",
        "outputId": "420b6987-f345-4af9-fb60-00aaeabda686"
      },
      "execution_count": 17,
      "outputs": [
        {
          "output_type": "stream",
          "name": "stdout",
          "text": [
            "tensor([[1, 2],\n",
            "        [3, 4]])\n"
          ]
        }
      ]
    },
    {
      "cell_type": "code",
      "source": [
        "tensor=x_data\n",
        "tensor[:,1]=0\n",
        "print(tensor)\n",
        "y1=tensor @ tensor.T\n",
        "y2=tensor.matmul(tensor.T)\n",
        "\n",
        "print(y1)\n",
        "print(y2)"
      ],
      "metadata": {
        "colab": {
          "base_uri": "https://localhost:8080/"
        },
        "id": "m1UFgdxFIs64",
        "outputId": "fe00820e-1777-4664-a1b5-bec27516e202"
      },
      "execution_count": 18,
      "outputs": [
        {
          "output_type": "stream",
          "name": "stdout",
          "text": [
            "tensor([[1, 0],\n",
            "        [3, 0]])\n",
            "tensor([[1, 3],\n",
            "        [3, 9]])\n",
            "tensor([[1, 3],\n",
            "        [3, 9]])\n"
          ]
        }
      ]
    }
  ]
}